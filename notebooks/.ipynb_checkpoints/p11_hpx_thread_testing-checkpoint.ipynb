{
 "cells": [
  {
   "cell_type": "code",
   "execution_count": 1,
   "metadata": {},
   "outputs": [],
   "source": [
    "!rm -fr ~/tmp"
   ]
  },
  {
   "cell_type": "code",
   "execution_count": 2,
   "metadata": {},
   "outputs": [],
   "source": [
    "from py11 import py11, create_type, set_flags"
   ]
  },
  {
   "cell_type": "code",
   "execution_count": 3,
   "metadata": {},
   "outputs": [],
   "source": [
    "set_flags(\"-std=c++17 -L/usr/local/lib64 -lhpx\")"
   ]
  },
  {
   "cell_type": "code",
   "execution_count": 4,
   "metadata": {},
   "outputs": [],
   "source": [
    "import os"
   ]
  },
  {
   "cell_type": "code",
   "execution_count": 5,
   "metadata": {},
   "outputs": [],
   "source": [
    "os.environ[\"LD_LIBRARY_PATH\"] = \"/usr/local/lib64\""
   ]
  },
  {
   "cell_type": "code",
   "execution_count": 6,
   "metadata": {},
   "outputs": [],
   "source": [
    "create_type(\"func\", \"std::function<void()>\")"
   ]
  },
  {
   "cell_type": "code",
   "execution_count": 7,
   "metadata": {
    "scrolled": true
   },
   "outputs": [
    {
     "name": "stdout",
     "output_type": "stream",
     "text": [
      "g++ -std=c++17 -L/usr/local/lib64 -lhpx -I/usr/include/python3.6m -I/usr/local/include -rdynamic -fPIC -shared -o /home/thomaskahle/tmp/hpx_wrapper_v1.so /home/thomaskahle/tmp/hpx_wrapper.cpp\n"
     ]
    }
   ],
   "source": [
    "@py11(headers=[\"<run_hpx.cpp>\"])\n",
    "def hpx_wrapper(f : func )-> None:\n",
    "    \"\"\"\n",
    "    const char * num = getenv(\"HPX_NUM_THREADS\");\n",
    "    int num_threads = num == 0 ? 4 : atoi(num);\n",
    "    std::cout << \"Using \" << num_threads << \" threads\" << std::endl;\n",
    "    hpx_global::submit_work(num_threads, f);\n",
    "    \"\"\""
   ]
  },
  {
   "cell_type": "code",
   "execution_count": 8,
   "metadata": {},
   "outputs": [
    {
     "name": "stdout",
     "output_type": "stream",
     "text": [
      "g++ -std=c++17 -L/usr/local/lib64 -lhpx -I/usr/include/python3.6m -I/usr/local/include -rdynamic -fPIC -shared -o /home/thomaskahle/tmp/foo_v1.so /home/thomaskahle/tmp/foo.cpp\n"
     ]
    }
   ],
   "source": [
    "@py11()\n",
    "def foo()->None:\n",
    "    \"\"\"\n",
    "        return;\n",
    "    \"\"\""
   ]
  },
  {
   "cell_type": "code",
   "execution_count": 9,
   "metadata": {},
   "outputs": [
    {
     "name": "stdout",
     "output_type": "stream",
     "text": [
      "g++ -std=c++17 -L/usr/local/lib64 -lhpx -I/usr/include/python3.6m -I/usr/local/include -rdynamic -fPIC -shared -o /home/thomaskahle/tmp/hpx_thread_test_function_ptr_v1.so /home/thomaskahle/tmp/hpx_thread_test_function_ptr.cpp\n"
     ]
    }
   ],
   "source": [
    "@py11(wrap=hpx_wrapper, headers=[\"<hpx/hpx.hpp>\"], funs= [foo])\n",
    "def hpx_thread_test_function_ptr()->None:\n",
    "    \"\"\"\n",
    "        hpx::thread t1{foo};\n",
    "        t1.join();\n",
    "        return;\n",
    "    \"\"\""
   ]
  },
  {
   "cell_type": "code",
   "execution_count": 10,
   "metadata": {},
   "outputs": [
    {
     "name": "stdout",
     "output_type": "stream",
     "text": [
      "g++ -std=c++17 -L/usr/local/lib64 -lhpx -I/usr/include/python3.6m -I/usr/local/include -rdynamic -fPIC -shared -o /home/thomaskahle/tmp/hpx_thread_test_lambda_v1.so /home/thomaskahle/tmp/hpx_thread_test_lambda.cpp\n"
     ]
    }
   ],
   "source": [
    "@py11(wrap=hpx_wrapper, headers=[\"<hpx/hpx.hpp>\"])\n",
    "def hpx_thread_test_lambda()->None:\n",
    "    \"\"\"\n",
    "        hpx::thread t1 {[](){return;}};\n",
    "        t1.join();\n",
    "    \"\"\""
   ]
  },
  {
   "cell_type": "code",
   "execution_count": null,
   "metadata": {},
   "outputs": [],
   "source": [
    "@py11(wrap=hpx_wrapper, headers=[\"hpx/hpx.hpp\"], funs = [foo])\n",
    "def hpx_async_test_function_ptr()->None:\n",
    "    \"\"\"\n",
    "        hpx::lcos::future<void> f1 = hpx::async(foo);\n",
    "        f1.wait();\n",
    "    \"\"\""
   ]
  },
  {
   "cell_type": "code",
   "execution_count": null,
   "metadata": {},
   "outputs": [],
   "source": [
    "hpx_thread_test_function_ptr() #causes seg fault"
   ]
  },
  {
   "cell_type": "code",
   "execution_count": null,
   "metadata": {},
   "outputs": [],
   "source": [
    "hpx_thread_test_lambda() #also causes seg fault"
   ]
  },
  {
   "cell_type": "code",
   "execution_count": null,
   "metadata": {},
   "outputs": [],
   "source": []
  }
 ],
 "metadata": {
  "kernelspec": {
   "display_name": "Python 3",
   "language": "python",
   "name": "python3"
  },
  "language_info": {
   "codemirror_mode": {
    "name": "ipython",
    "version": 3
   },
   "file_extension": ".py",
   "mimetype": "text/x-python",
   "name": "python",
   "nbconvert_exporter": "python",
   "pygments_lexer": "ipython3",
   "version": "3.6.8"
  }
 },
 "nbformat": 4,
 "nbformat_minor": 2
}
